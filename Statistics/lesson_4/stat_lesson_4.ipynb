{
 "cells": [
  {
   "cell_type": "code",
   "execution_count": 15,
   "metadata": {},
   "outputs": [],
   "source": [
    "#загузка используемых библиотек\n",
    "import pandas as pd\n",
    "import numpy as np\n",
    "import seaborn as sns\n",
    "import scipy\n",
    "from scipy import stats\n",
    "\n",
    "%matplotlib inline"
   ]
  },
  {
   "cell_type": "code",
   "execution_count": 2,
   "metadata": {},
   "outputs": [],
   "source": [
    "#сгененируем распределение\n",
    "mu = 100\n",
    "sigma = 10\n",
    "population = np.round(np.random.normal(mu, sigma, 1000), 2)"
   ]
  },
  {
   "cell_type": "code",
   "execution_count": 3,
   "metadata": {},
   "outputs": [
    {
     "data": {
      "text/plain": [
       "array([ 89.  ,  95.05, 103.3 , 106.44,  99.25, 111.11, 105.88, 102.67,\n",
       "       114.26,  78.7 , 107.84,  94.81, 110.23, 115.2 ,  93.22, 108.8 ,\n",
       "        93.11,  94.66,  99.1 ,  95.76, 100.39,  85.72, 108.09,  93.73,\n",
       "       108.04, 106.4 ,  94.34,  94.31,  98.6 , 108.08,  99.5 ,  90.68,\n",
       "       101.17, 106.57,  89.13,  87.2 ,  88.61, 107.29, 105.97,  92.96,\n",
       "       104.96, 102.31,  85.52, 117.02, 112.57,  90.76, 104.82, 116.06,\n",
       "       101.15, 105.52, 116.54,  98.64,  97.21,  90.7 ,  92.25, 116.13,\n",
       "        93.42, 109.21, 100.05,  98.28,  94.42, 108.06,  89.39, 111.92,\n",
       "        93.27,  94.81, 100.38, 101.35, 107.88,  97.07, 105.35, 114.74,\n",
       "        80.25, 103.22, 115.07,  94.49,  94.97, 104.2 , 109.96,  91.67,\n",
       "        91.51,  87.64, 100.  , 100.09, 113.51, 104.92, 112.43,  95.07,\n",
       "        96.37,  89.32,  89.91,  93.63,  99.84,  95.08,  96.65, 113.14,\n",
       "       113.19,  87.06, 103.56, 111.82, 102.75, 108.3 ,  92.08, 104.1 ,\n",
       "       100.87, 105.28,  82.06,  82.73, 101.64, 108.78,  85.3 ,  88.45,\n",
       "       100.42,  99.14,  96.82,  88.  , 104.11,  87.56,  99.8 , 100.02,\n",
       "       104.92, 122.03,  95.  ,  99.68,  97.67, 104.81, 105.8 ,  91.72,\n",
       "       106.37, 101.63,  83.99,  92.4 ,  84.62, 105.29, 111.74,  92.72,\n",
       "       103.5 , 100.29, 107.99,  89.59, 101.21,  93.53,  82.96, 106.23,\n",
       "        90.81, 106.69,  98.5 , 101.01,  88.29, 107.9 , 104.88, 105.45,\n",
       "       104.44,  91.42, 104.06, 100.7 ,  86.41,  97.02, 105.78,  85.11,\n",
       "       103.55,  72.52, 100.39, 107.41,  85.11, 105.23,  94.16,  98.86,\n",
       "        94.99, 107.9 , 103.55, 115.59,  97.57,  89.73, 104.74,  93.54,\n",
       "       100.87, 103.17,  90.18, 105.8 , 102.93,  93.15, 108.64,  96.96,\n",
       "        91.06, 101.57, 112.25, 104.27, 104.77,  97.88, 101.58, 102.73,\n",
       "       117.24,  91.8 ,  93.25, 107.92,  99.42,  92.66, 117.67,  88.21,\n",
       "        95.37,  99.94, 108.69,  93.22,  88.84,  95.13, 103.64, 109.13,\n",
       "        94.9 , 101.85,  93.01, 106.47, 113.49, 104.73,  73.15,  94.3 ,\n",
       "       104.68,  99.57, 100.99, 107.73, 108.78,  99.85, 130.42, 121.39,\n",
       "       112.59,  97.11, 105.47, 106.91,  97.23, 117.13, 101.59, 102.46,\n",
       "        97.43, 115.03, 107.62,  80.22, 120.62, 102.67,  91.75,  92.6 ,\n",
       "       100.01, 116.6 , 107.42,  92.56,  94.28, 108.51,  90.77, 124.19,\n",
       "       102.84,  85.2 , 114.69, 118.54, 103.25,  98.84,  82.54,  98.83,\n",
       "        92.64, 105.11,  98.41,  83.4 ,  93.25, 101.74, 105.92,  98.54,\n",
       "       100.35,  91.41,  89.93,  93.44,  97.28, 104.84,  84.89, 102.92,\n",
       "        98.44,  96.19, 106.13, 117.48, 121.35,  90.66, 116.8 , 102.65,\n",
       "        94.29, 102.14, 120.9 ,  98.21, 113.9 ,  99.49, 104.06, 107.41,\n",
       "        98.81, 125.07, 104.66, 100.09, 117.34, 113.17,  92.17,  97.53,\n",
       "       104.84,  99.03,  99.38,  80.19,  91.63, 120.01,  95.08,  99.87,\n",
       "        87.49, 107.82,  98.29,  83.21, 129.62, 122.75,  94.03,  92.74,\n",
       "        85.59, 103.04,  86.34, 107.35,  99.25, 106.  , 110.1 ,  85.6 ,\n",
       "       100.17, 113.3 ,  96.52, 102.83,  93.08, 105.1 ,  91.41,  94.21,\n",
       "       115.6 , 100.87,  99.88, 116.65, 107.95,  96.01,  88.13,  92.72,\n",
       "       100.34,  92.64,  99.15,  91.59, 106.24, 101.61,  99.56,  93.84,\n",
       "        96.8 ,  79.64, 106.4 ,  99.32, 104.58,  95.9 , 100.67,  98.85,\n",
       "       115.28, 104.14,  86.45, 122.68, 104.61,  95.7 , 101.78,  97.86,\n",
       "        93.34, 111.24, 106.81,  94.32,  96.03, 124.59, 111.95,  98.01,\n",
       "       105.21,  94.63,  99.67,  78.01, 108.29,  96.7 ,  84.8 ,  96.12,\n",
       "        91.78, 127.46, 112.64, 105.66, 116.49,  88.46, 100.38,  94.2 ,\n",
       "        94.78, 113.86,  85.52,  97.99,  98.99, 102.21, 107.26,  95.81,\n",
       "       104.65,  89.84, 112.08, 114.65, 122.07,  90.92, 103.77, 112.86,\n",
       "       109.25, 101.28, 106.12, 117.43, 119.73,  97.16, 132.12, 105.69,\n",
       "        96.31, 116.9 , 100.03, 107.49,  96.9 , 115.41,  89.3 ,  99.92,\n",
       "        98.56, 100.18,  89.33, 100.36, 105.01, 110.63, 101.49, 109.68,\n",
       "        93.37,  89.12,  99.76,  87.62,  90.8 , 118.65, 101.87, 114.52,\n",
       "       101.2 , 114.81, 102.61, 104.73, 107.16, 102.91,  91.97, 110.94,\n",
       "       105.51, 116.97,  83.79,  96.27, 103.02, 125.67,  97.47, 101.5 ,\n",
       "       109.7 , 111.11,  87.99,  86.38,  94.46, 106.76, 118.66, 106.72,\n",
       "       105.86, 108.4 , 106.01, 101.91,  93.52, 101.04,  98.87,  92.77,\n",
       "       107.39,  93.2 , 102.86,  99.42, 104.73,  88.67,  97.93, 106.22,\n",
       "       105.26,  87.09,  98.38,  84.08,  95.52,  99.56, 108.13, 105.71,\n",
       "       103.16, 105.41,  97.21, 100.11,  94.53,  84.38,  96.93,  94.79,\n",
       "        96.98,  98.85, 110.21,  93.32, 102.92,  90.05,  98.46,  94.52,\n",
       "       105.31, 111.59, 103.28,  73.3 ,  97.08,  93.02, 102.11,  95.47,\n",
       "       113.08, 102.16, 101.92,  97.82,  87.95,  96.51, 104.02, 104.98,\n",
       "       100.49,  92.41,  91.88,  95.84, 102.68, 116.62, 106.25, 106.16,\n",
       "        92.13, 117.26, 100.9 ,  99.32,  74.26,  92.28, 105.56,  88.48,\n",
       "       105.58, 112.88, 116.18, 101.84,  75.52, 102.11,  98.47,  88.49,\n",
       "        90.86, 111.7 , 107.23,  84.66, 118.71, 105.44,  99.42, 100.62,\n",
       "        99.49, 113.88,  82.78,  97.39, 115.13, 114.7 , 106.13, 103.64,\n",
       "       101.81,  99.31,  94.47,  84.85,  98.27, 104.03, 102.54,  91.65,\n",
       "       110.41, 108.49,  86.55,  97.82, 104.01, 106.26,  90.27, 103.37,\n",
       "       113.33,  88.45, 117.99,  98.95, 101.54,  95.67,  92.8 , 103.27,\n",
       "       114.55,  91.87, 105.41, 101.49,  97.51,  90.96, 108.34, 100.57,\n",
       "        97.04,  87.01, 101.27, 101.28,  91.51,  79.49, 105.86, 118.21,\n",
       "        95.15, 102.7 , 103.62,  92.53, 100.72,  91.46,  94.85,  96.67,\n",
       "       103.61,  97.4 ,  89.51, 108.8 , 107.05,  88.82,  96.75,  89.67,\n",
       "        90.68,  97.68, 104.29,  95.65, 105.5 ,  75.37,  91.15, 101.69,\n",
       "       109.64,  89.67, 134.32, 112.23, 102.96,  88.58,  89.39,  86.84,\n",
       "        86.1 ,  94.71,  95.87,  96.48,  86.94,  83.69,  98.97,  91.  ,\n",
       "       108.43, 108.03,  91.29, 103.67, 103.98, 114.86,  94.56, 120.25,\n",
       "        85.15, 114.71, 107.21,  82.95,  95.3 , 108.4 ,  80.64, 110.13,\n",
       "       113.03, 115.43,  94.56, 102.07, 109.75, 105.27, 105.31, 112.37,\n",
       "       101.7 ,  86.54, 102.66,  83.78,  93.53,  96.34, 111.22,  88.19,\n",
       "       103.55, 108.43, 115.19,  82.64, 103.72,  95.12, 106.53,  90.41,\n",
       "       112.23,  98.3 ,  83.06, 103.85,  81.62,  96.67,  84.54, 104.78,\n",
       "       101.29,  93.91, 118.39,  94.35,  90.98, 103.31,  98.55, 115.77,\n",
       "        97.74, 114.58,  94.79, 108.87,  90.86, 101.15,  96.89,  90.36,\n",
       "       113.52, 106.46, 101.74,  98.03, 108.79, 106.37, 128.55, 112.66,\n",
       "       104.79,  93.34, 113.73, 119.94, 108.89,  88.96, 103.59,  92.69,\n",
       "       102.54,  80.76,  93.03,  87.31,  98.38, 102.27, 103.73,  90.55,\n",
       "        97.06, 108.64,  83.17,  97.11,  98.87,  91.8 ,  97.46,  93.41,\n",
       "       104.12,  82.3 ,  97.86, 104.28, 109.98,  86.45,  93.67, 111.64,\n",
       "        94.59,  81.61, 102.22, 117.39, 102.99,  99.36,  99.53,  90.43,\n",
       "        81.4 , 107.64,  96.08, 103.99,  89.87, 101.3 , 119.3 , 102.32,\n",
       "       111.23, 107.05, 103.21,  96.91,  90.93, 101.34,  86.82,  98.94,\n",
       "       112.64, 116.6 , 112.64,  94.14, 115.36,  88.9 , 119.12, 118.28,\n",
       "       104.38, 111.19, 122.49,  95.5 ,  86.19, 104.19,  99.3 , 103.16,\n",
       "       107.09, 105.13, 108.44,  91.9 ,  85.71,  90.16, 122.11, 100.96,\n",
       "       112.81,  97.2 , 111.52, 108.23, 100.53,  97.28, 109.48, 103.52,\n",
       "        98.8 ,  84.52, 102.99, 119.72,  94.46, 106.18, 117.9 ,  88.91,\n",
       "        93.8 ,  80.83, 100.75,  93.42,  90.45,  95.53,  77.09,  98.42,\n",
       "        97.46,  83.69,  90.97, 108.96, 115.97,  99.92,  86.84, 117.21,\n",
       "        88.8 ,  86.62, 114.59, 113.21,  97.41, 110.24,  95.78,  98.31,\n",
       "       101.06,  83.23,  96.13, 101.07, 101.61, 102.13,  89.98, 103.67,\n",
       "        94.09,  87.29, 108.86, 103.79,  94.49,  90.74, 108.85,  86.31,\n",
       "        79.23,  93.71, 106.39, 111.76, 109.69, 102.29,  92.68, 101.88,\n",
       "        92.69,  91.25, 115.83,  96.09, 106.75,  97.61,  80.58, 107.99,\n",
       "       124.02,  92.96, 109.01, 113.5 , 101.36, 101.87,  85.49, 101.82,\n",
       "       111.9 , 102.97,  88.76, 109.24, 109.45, 104.05,  91.47, 103.11,\n",
       "        98.72,  95.56, 109.79,  99.16, 107.69,  94.37,  87.4 ,  97.78,\n",
       "        98.97,  78.09,  78.3 ,  89.55, 101.82,  90.47,  99.89, 103.79,\n",
       "        91.21,  87.26, 113.25,  90.39,  85.06, 110.4 ,  84.79,  89.92,\n",
       "        95.3 ,  92.  ,  92.52, 102.44, 103.78, 106.15,  87.65, 102.86,\n",
       "       102.95, 105.78,  94.46,  93.9 , 102.74,  96.32,  93.5 , 100.58,\n",
       "        99.83,  93.01,  92.01, 102.49, 104.86,  94.71, 117.92,  99.45,\n",
       "       117.08, 111.26,  97.03,  91.41,  83.36, 117.18,  91.61,  88.6 ,\n",
       "        99.34,  84.1 ,  85.94,  98.48,  89.65, 106.3 ,  91.26, 104.79,\n",
       "        96.22, 104.27, 105.46, 116.37,  91.72, 110.89, 103.8 , 101.16,\n",
       "       115.71, 107.19,  97.7 ,  97.87, 113.18, 100.04, 112.4 ,  93.46,\n",
       "        95.32, 110.55, 109.53, 119.05, 100.9 , 106.97, 101.78, 102.21,\n",
       "       107.97,  86.76, 104.64,  99.73,  99.45,  87.5 , 116.25,  98.79,\n",
       "        99.52, 104.65, 109.23, 102.34,  83.41, 111.19,  97.9 ,  97.97,\n",
       "       112.78, 109.07, 105.88,  83.56,  90.46,  86.73, 102.77,  88.03,\n",
       "       104.26, 107.26,  92.25,  98.19,  90.96,  93.06, 115.91,  77.13,\n",
       "        98.68,  84.15, 100.18, 100.38, 108.72,  91.9 , 111.28, 118.48])"
      ]
     },
     "execution_count": 3,
     "metadata": {},
     "output_type": "execute_result"
    }
   ],
   "source": [
    "population"
   ]
  },
  {
   "cell_type": "code",
   "execution_count": null,
   "metadata": {},
   "outputs": [],
   "source": [
    "#####################################################################################"
   ]
  },
  {
   "cell_type": "code",
   "execution_count": 6,
   "metadata": {},
   "outputs": [
    {
     "name": "stderr",
     "output_type": "stream",
     "text": [
      "/opt/tljh/user/lib/python3.7/site-packages/seaborn/distributions.py:2557: FutureWarning: `distplot` is a deprecated function and will be removed in a future version. Please adapt your code to use either `displot` (a figure-level function with similar flexibility) or `histplot` (an axes-level function for histograms).\n",
      "  warnings.warn(msg, FutureWarning)\n"
     ]
    },
    {
     "data": {
      "text/plain": [
       "<matplotlib.axes._subplots.AxesSubplot at 0x7f96dfb2dfd0>"
      ]
     },
     "execution_count": 6,
     "metadata": {},
     "output_type": "execute_result"
    },
    {
     "data": {
      "image/png": "[encoded data removed]",
      "text/plain": [
       "<Figure size 720x360 with 1 Axes>"
      ]
     },
     "metadata": {},
     "output_type": "display_data"
    }
   ],
   "source": [
    "n = 1000\n",
    "sample_size = 5\n",
    "sample_means = []\n",
    "for i in range(n):\n",
    "    sample = np.random.choice(population, sample_size, False)\n",
    "    sample_means.append(sample.mean())\n",
    "    \n",
    "sns.distplot(sample_means, kde = True)"
   ]
  },
  {
   "cell_type": "code",
   "execution_count": 8,
   "metadata": {},
   "outputs": [
    {
     "name": "stderr",
     "output_type": "stream",
     "text": [
      "/opt/tljh/user/lib/python3.7/site-packages/seaborn/distributions.py:2557: FutureWarning: `distplot` is a deprecated function and will be removed in a future version. Please adapt your code to use either `displot` (a figure-level function with similar flexibility) or `histplot` (an axes-level function for histograms).\n",
      "  warnings.warn(msg, FutureWarning)\n"
     ]
    },
    {
     "data": {
      "text/plain": [
       "<matplotlib.axes._subplots.AxesSubplot at 0x7f96df9ff208>"
      ]
     },
     "execution_count": 8,
     "metadata": {},
     "output_type": "execute_result"
    },
    {
     "data": {
      "image/png": "[encoded data removed]",
      "text/plain": [
       "<Figure size 720x360 with 1 Axes>"
      ]
     },
     "metadata": {},
     "output_type": "display_data"
    }
   ],
   "source": [
    "n = 1000\n",
    "sample_size = 35\n",
    "sample_means = []\n",
    "for i in range(n):\n",
    "    sample = np.random.choice(population, sample_size, False)\n",
    "    sample_means.append(sample.mean())\n",
    "    \n",
    "sns.distplot(sample_means, kde = True)"
   ]
  },
  {
   "cell_type": "code",
   "execution_count": 18,
   "metadata": {},
   "outputs": [
    {
     "name": "stderr",
     "output_type": "stream",
     "text": [
      "/opt/tljh/user/lib/python3.7/site-packages/seaborn/distributions.py:2557: FutureWarning: `distplot` is a deprecated function and will be removed in a future version. Please adapt your code to use either `displot` (a figure-level function with similar flexibility) or `histplot` (an axes-level function for histograms).\n",
      "  warnings.warn(msg, FutureWarning)\n"
     ]
    },
    {
     "data": {
      "text/plain": [
       "<matplotlib.axes._subplots.AxesSubplot at 0x7f96e41d9a20>"
      ]
     },
     "execution_count": 18,
     "metadata": {},
     "output_type": "execute_result"
    },
    {
     "data": {
      "image/png": "[encoded data removed]",
      "text/plain": [
       "<Figure size 720x360 with 1 Axes>"
      ]
     },
     "metadata": {},
     "output_type": "display_data"
    }
   ],
   "source": [
    "n = 100\n",
    "sample_size = 35\n",
    "sample_mean_diff = []\n",
    "for i in range(n):\n",
    "    sample1 = np.random.choice(population, sample_size, False)\n",
    "    sample2 = np.random.choice(population, sample_size, False)\n",
    "    mean1 = sample1.mean()\n",
    "    mean2 = sample2.mean()\n",
    "    sample_mean_diff.append(mean1-mean2)\n",
    "    \n",
    "sns.distplot(sample_mean_diff, kde = True)"
   ]
  },
  {
   "cell_type": "code",
   "execution_count": 19,
   "metadata": {},
   "outputs": [
    {
     "data": {
      "text/plain": [
       "2.3179424781486206"
      ]
     },
     "execution_count": 19,
     "metadata": {},
     "output_type": "execute_result"
    }
   ],
   "source": [
    "np.std(sample_mean_diff, ddof=1)"
   ]
  },
  {
   "cell_type": "code",
   "execution_count": 20,
   "metadata": {},
   "outputs": [
    {
     "data": {
      "text/plain": [
       "2.1538974683984327"
      ]
     },
     "execution_count": 20,
     "metadata": {},
     "output_type": "execute_result"
    }
   ],
   "source": [
    "se = np.sqrt(sample1.std()**2 / sample_size + sample2.std()**2 / sample_size)\n",
    "se"
   ]
  },
  {
   "cell_type": "code",
   "execution_count": null,
   "metadata": {},
   "outputs": [],
   "source": []
  },
  {
   "cell_type": "code",
   "execution_count": null,
   "metadata": {},
   "outputs": [],
   "source": []
  },
  {
   "cell_type": "code",
   "execution_count": null,
   "metadata": {},
   "outputs": [],
   "source": [
    "#####################################################################################"
   ]
  },
  {
   "cell_type": "code",
   "execution_count": null,
   "metadata": {},
   "outputs": [],
   "source": []
  },
  {
   "cell_type": "code",
   "execution_count": null,
   "metadata": {},
   "outputs": [],
   "source": []
  },
  {
   "cell_type": "code",
   "execution_count": 12,
   "metadata": {},
   "outputs": [
    {
     "data": {
      "text/plain": [
       "10.011579021308277"
      ]
     },
     "execution_count": 12,
     "metadata": {},
     "output_type": "execute_result"
    }
   ],
   "source": [
    "population.std()"
   ]
  },
  {
   "cell_type": "code",
   "execution_count": 11,
   "metadata": {},
   "outputs": [],
   "source": [
    "chi = [(i-population.mean())**2 for i in population]"
   ]
  },
  {
   "cell_type": "code",
   "execution_count": 17,
   "metadata": {},
   "outputs": [],
   "source": [
    "sns.set(\n",
    "    font_scale =1.25,\n",
    "    style      =\"whitegrid\",\n",
    "    rc         ={'figure.figsize':(10,5)}\n",
    ")\n",
    "# sns.distplot(population, kde = True)"
   ]
  },
  {
   "cell_type": "code",
   "execution_count": 13,
   "metadata": {},
   "outputs": [
    {
     "name": "stderr",
     "output_type": "stream",
     "text": [
      "/opt/tljh/user/lib/python3.7/site-packages/seaborn/distributions.py:2557: FutureWarning: `distplot` is a deprecated function and will be removed in a future version. Please adapt your code to use either `displot` (a figure-level function with similar flexibility) or `histplot` (an axes-level function for histograms).\n",
      "  warnings.warn(msg, FutureWarning)\n"
     ]
    },
    {
     "data": {
      "text/plain": [
       "<matplotlib.axes._subplots.AxesSubplot at 0x7f9236b4e860>"
      ]
     },
     "execution_count": 13,
     "metadata": {},
     "output_type": "execute_result"
    },
    {
     "data": {
      "image/png": "[encoded data removed]",
      "text/plain": [
       "<Figure size 720x360 with 1 Axes>"
      ]
     },
     "metadata": {},
     "output_type": "display_data"
    }
   ],
   "source": [
    "sns.distplot(chi, kde = True)"
   ]
  },
  {
   "cell_type": "code",
   "execution_count": 15,
   "metadata": {},
   "outputs": [
    {
     "name": "stderr",
     "output_type": "stream",
     "text": [
      "/opt/tljh/user/lib/python3.7/site-packages/seaborn/distributions.py:2557: FutureWarning: `distplot` is a deprecated function and will be removed in a future version. Please adapt your code to use either `displot` (a figure-level function with similar flexibility) or `histplot` (an axes-level function for histograms).\n",
      "  warnings.warn(msg, FutureWarning)\n"
     ]
    },
    {
     "data": {
      "text/plain": [
       "<matplotlib.axes._subplots.AxesSubplot at 0x7f92369c96a0>"
      ]
     },
     "execution_count": 15,
     "metadata": {},
     "output_type": "execute_result"
    },
    {
     "data": {
      "image/png": "[encoded data removed]",
      "text/plain": [
       "<Figure size 720x360 with 1 Axes>"
      ]
     },
     "metadata": {},
     "output_type": "display_data"
    }
   ],
   "source": [
    "sns.distplot([(i-population.mean())**2 for i in population], kde = True)"
   ]
  },
  {
   "cell_type": "code",
   "execution_count": null,
   "metadata": {},
   "outputs": [],
   "source": []
  },
  {
   "cell_type": "code",
   "execution_count": null,
   "metadata": {},
   "outputs": [],
   "source": []
  },
  {
   "cell_type": "code",
   "execution_count": null,
   "metadata": {},
   "outputs": [],
   "source": []
  },
  {
   "cell_type": "code",
   "execution_count": 13,
   "metadata": {},
   "outputs": [
    {
     "data": {
      "text/plain": [
       "99.44999"
      ]
     },
     "execution_count": 13,
     "metadata": {},
     "output_type": "execute_result"
    }
   ],
   "source": [
    "population.mean()"
   ]
  },
  {
   "cell_type": "code",
   "execution_count": 6,
   "metadata": {},
   "outputs": [],
   "source": [
    "sns.set(\n",
    "    font_scale =1.25,\n",
    "    style      =\"whitegrid\",\n",
    "    rc         ={'figure.figsize':(10,5)}\n",
    ")"
   ]
  },
  {
   "cell_type": "code",
   "execution_count": 10,
   "metadata": {},
   "outputs": [
    {
     "data": {
      "text/plain": [
       "<matplotlib.axes._subplots.AxesSubplot at 0x7f1e0b5de048>"
      ]
     },
     "execution_count": 10,
     "metadata": {},
     "output_type": "execute_result"
    },
    {
     "data": {
      "image/png": "[encoded data removed]",
      "text/plain": [
       "<Figure size 720x360 with 1 Axes>"
      ]
     },
     "metadata": {},
     "output_type": "display_data"
    }
   ],
   "source": [
    "#Визуализируем график\n",
    "sns.distplot(population, kde = True)"
   ]
  },
  {
   "cell_type": "code",
   "execution_count": 12,
   "metadata": {},
   "outputs": [
    {
     "data": {
      "text/plain": [
       "NormaltestResult(statistic=2.7040490244205593, pvalue=0.2587159564819869)"
      ]
     },
     "execution_count": 12,
     "metadata": {},
     "output_type": "execute_result"
    }
   ],
   "source": [
    "scipy.stats.normaltest(population)"
   ]
  },
  {
   "cell_type": "code",
   "execution_count": null,
   "metadata": {},
   "outputs": [],
   "source": []
  },
  {
   "cell_type": "code",
   "execution_count": 15,
   "metadata": {},
   "outputs": [
    {
     "name": "stdout",
     "output_type": "stream",
     "text": [
      "mean 99.77049\n",
      "std 10.142843992682723\n"
     ]
    }
   ],
   "source": [
    "#Средене значние и стандартное отклонение\n",
    "print('mean',population.mean())\n",
    "print('std',population.std())"
   ]
  },
  {
   "cell_type": "code",
   "execution_count": 23,
   "metadata": {},
   "outputs": [
    {
     "data": {
      "text/plain": [
       "98.25966666666666"
      ]
     },
     "execution_count": 23,
     "metadata": {},
     "output_type": "execute_result"
    }
   ],
   "source": [
    "# Получение выборочного среднего\n",
    "sample_size = 30 #можно менять размер выбороки  и из-за этого будет меняться стандартная ошибка среднего\n",
    "sample = np.random.choice(population, sample_size, False)\n",
    "sample.mean()"
   ]
  },
  {
   "cell_type": "code",
   "execution_count": 25,
   "metadata": {},
   "outputs": [
    {
     "name": "stderr",
     "output_type": "stream",
     "text": [
      "/opt/tljh/user/lib/python3.7/site-packages/seaborn/distributions.py:2557: FutureWarning: `distplot` is a deprecated function and will be removed in a future version. Please adapt your code to use either `displot` (a figure-level function with similar flexibility) or `histplot` (an axes-level function for histograms).\n",
      "  warnings.warn(msg, FutureWarning)\n"
     ]
    },
    {
     "data": {
      "text/plain": [
       "<matplotlib.axes._subplots.AxesSubplot at 0x7f851ebc1b38>"
      ]
     },
     "execution_count": 25,
     "metadata": {},
     "output_type": "execute_result"
    },
    {
     "data": {
      "image/png": "[encoded data removed]",
      "text/plain": [
       "<Figure size 432x288 with 1 Axes>"
      ]
     },
     "metadata": {
      "needs_background": "light"
     },
     "output_type": "display_data"
    }
   ],
   "source": [
    "sns.distplot(sample, kde=False)"
   ]
  },
  {
   "cell_type": "code",
   "execution_count": 26,
   "metadata": {},
   "outputs": [],
   "source": [
    "n = 10_000\n",
    "sample_means = []\n",
    "for i in range(n):\n",
    "    sample = np.random.choice(population, sample_size, False)\n",
    "    sample_means.append(sample.mean())"
   ]
  },
  {
   "cell_type": "code",
   "execution_count": 27,
   "metadata": {},
   "outputs": [
    {
     "data": {
      "text/plain": [
       "10000"
      ]
     },
     "execution_count": 27,
     "metadata": {},
     "output_type": "execute_result"
    }
   ],
   "source": [
    "len(sample_means)"
   ]
  },
  {
   "cell_type": "code",
   "execution_count": 29,
   "metadata": {},
   "outputs": [
    {
     "name": "stderr",
     "output_type": "stream",
     "text": [
      "/opt/tljh/user/lib/python3.7/site-packages/seaborn/distributions.py:2557: FutureWarning: `distplot` is a deprecated function and will be removed in a future version. Please adapt your code to use either `displot` (a figure-level function with similar flexibility) or `histplot` (an axes-level function for histograms).\n",
      "  warnings.warn(msg, FutureWarning)\n"
     ]
    },
    {
     "data": {
      "text/plain": [
       "<matplotlib.axes._subplots.AxesSubplot at 0x7f851c9c6208>"
      ]
     },
     "execution_count": 29,
     "metadata": {},
     "output_type": "execute_result"
    },
    {
     "data": {
      "image/png": "[encoded data removed]",
      "text/plain": [
       "<Figure size 432x288 with 1 Axes>"
      ]
     },
     "metadata": {
      "needs_background": "light"
     },
     "output_type": "display_data"
    }
   ],
   "source": [
    "sns.distplot(sample_means, kde = False)"
   ]
  },
  {
   "cell_type": "code",
   "execution_count": 32,
   "metadata": {},
   "outputs": [
    {
     "data": {
      "text/plain": [
       "1.8257786119230137"
      ]
     },
     "execution_count": 32,
     "metadata": {},
     "output_type": "execute_result"
    }
   ],
   "source": [
    "np.std(sample_means)"
   ]
  },
  {
   "cell_type": "code",
   "execution_count": 33,
   "metadata": {},
   "outputs": [
    {
     "data": {
      "text/plain": [
       "99.77937483333334"
      ]
     },
     "execution_count": 33,
     "metadata": {},
     "output_type": "execute_result"
    }
   ],
   "source": [
    "np.mean(sample_means)"
   ]
  },
  {
   "cell_type": "code",
   "execution_count": 38,
   "metadata": {},
   "outputs": [
    {
     "data": {
      "text/plain": [
       "30"
      ]
     },
     "execution_count": 38,
     "metadata": {},
     "output_type": "execute_result"
    }
   ],
   "source": [
    "sample = np.random.choice(population, sample_size, False)\n",
    "len(sample)"
   ]
  },
  {
   "cell_type": "code",
   "execution_count": 37,
   "metadata": {},
   "outputs": [
    {
     "data": {
      "text/plain": [
       "1.8518214840160303"
      ]
     },
     "execution_count": 37,
     "metadata": {},
     "output_type": "execute_result"
    }
   ],
   "source": [
    "population.std() / 30 ** 0.5"
   ]
  },
  {
   "cell_type": "code",
   "execution_count": 39,
   "metadata": {},
   "outputs": [
    {
     "data": {
      "text/plain": [
       "9.122738069729333"
      ]
     },
     "execution_count": 39,
     "metadata": {},
     "output_type": "execute_result"
    }
   ],
   "source": [
    "sample.std()"
   ]
  },
  {
   "cell_type": "code",
   "execution_count": 10,
   "metadata": {},
   "outputs": [],
   "source": [
    "# правило трех сигм - 100% в этом диапазоне\n",
    "\n",
    "# правило 1.96 сигм ~ 95% в этом диапазоне\n",
    "\n",
    "# se = sigma / корень(n)"
   ]
  },
  {
   "cell_type": "code",
   "execution_count": 40,
   "metadata": {},
   "outputs": [
    {
     "data": {
      "text/plain": [
       "1.8518214840160303"
      ]
     },
     "execution_count": 40,
     "metadata": {},
     "output_type": "execute_result"
    }
   ],
   "source": [
    "#Стандартная ошибка\n",
    "se = population.std() / sample_size ** 0.5\n",
    "se"
   ]
  },
  {
   "cell_type": "code",
   "execution_count": 41,
   "metadata": {},
   "outputs": [
    {
     "data": {
      "text/plain": [
       "1.8257786119230137"
      ]
     },
     "execution_count": 41,
     "metadata": {},
     "output_type": "execute_result"
    }
   ],
   "source": [
    "np.std(sample_means)"
   ]
  },
  {
   "cell_type": "code",
   "execution_count": 43,
   "metadata": {},
   "outputs": [
    {
     "name": "stdout",
     "output_type": "stream",
     "text": [
      "103.40006010867141\n",
      "96.14091989132858\n"
     ]
    }
   ],
   "source": [
    "# Диапазон, в котором лежит 95% наблюдений\n",
    "print(population.mean() + 1.96 * se)\n",
    "print(population.mean() - 1.96 * se)"
   ]
  },
  {
   "cell_type": "code",
   "execution_count": 44,
   "metadata": {},
   "outputs": [
    {
     "data": {
      "text/plain": [
       "array([ 95.36,  95.56, 121.38, 104.2 , 110.39,  92.77,  90.57, 108.9 ,\n",
       "        98.69, 127.62,  91.3 ,  94.33, 130.57,  94.74,  98.92,  83.74,\n",
       "        96.57,  85.2 , 116.67,  98.02,  90.47, 114.96,  89.94,  93.58,\n",
       "        98.71, 100.65, 101.46, 100.98,  94.05, 100.47])"
      ]
     },
     "execution_count": 44,
     "metadata": {},
     "output_type": "execute_result"
    }
   ],
   "source": [
    "#=============\n",
    "sample_real = np.random.choice(population, sample_size, False)\n",
    "sample_real"
   ]
  },
  {
   "cell_type": "code",
   "execution_count": 45,
   "metadata": {},
   "outputs": [
    {
     "name": "stdout",
     "output_type": "stream",
     "text": [
      "100.69233333333334\n",
      "11.460937042357788\n"
     ]
    },
    {
     "data": {
      "text/plain": [
       "2.0924712494153006"
      ]
     },
     "execution_count": 45,
     "metadata": {},
     "output_type": "execute_result"
    }
   ],
   "source": [
    "print(sample_real.mean())\n",
    "print(sample_real.std())\n",
    "se = sample_real.std() / sample_size ** 0.5\n",
    "se "
   ]
  },
  {
   "cell_type": "code",
   "execution_count": 46,
   "metadata": {},
   "outputs": [
    {
     "data": {
      "text/plain": [
       "1.9116152736233392"
      ]
     },
     "execution_count": 46,
     "metadata": {},
     "output_type": "execute_result"
    }
   ],
   "source": [
    "#как вычислить z значение\n",
    "(104 - 100)/se # значение лежит правее на более чем 2 сигмы"
   ]
  },
  {
   "cell_type": "code",
   "execution_count": 47,
   "metadata": {},
   "outputs": [
    {
     "name": "stdout",
     "output_type": "stream",
     "text": [
      "1.8518214840160303\n"
     ]
    }
   ],
   "source": [
    "z_scores = []\n",
    "n = 10_000\n",
    "\n",
    "mu = population.mean()\n",
    "sigma = population.std()\n",
    "\n",
    "se = sigma / sample_size ** 0.5\n",
    "print(se)\n",
    "for i in range(n):\n",
    "    sample = np.random.choice(population, sample_size, False)\n",
    "    sample_mean = sample.mean()\n",
    "    \n",
    "    z_score = (sample_mean - mu) / se\n",
    "    z_scores.append(z_score)"
   ]
  },
  {
   "cell_type": "code",
   "execution_count": 48,
   "metadata": {},
   "outputs": [
    {
     "data": {
      "text/plain": [
       "<matplotlib.axes._subplots.AxesSubplot at 0x7f851c92eac8>"
      ]
     },
     "execution_count": 48,
     "metadata": {},
     "output_type": "execute_result"
    },
    {
     "data": {
      "image/png": "[encoded data removed]",
      "text/plain": [
       "<Figure size 432x288 with 1 Axes>"
      ]
     },
     "metadata": {
      "needs_background": "light"
     },
     "output_type": "display_data"
    }
   ],
   "source": [
    "sns.distplot(z_scores, kde=False) # Z-распределение"
   ]
  },
  {
   "cell_type": "code",
   "execution_count": 49,
   "metadata": {},
   "outputs": [],
   "source": [
    "#Рассчет z-значения для конкретной выборки\n",
    "\n",
    "t_scores = []\n",
    "\n",
    "n = 10_000\n",
    "for i in range(n):\n",
    "    sample = np.random.choice(population, sample_size, False)\n",
    "    sample_mean = sample.mean()\n",
    "    sample_std = sample.std()\n",
    "    \n",
    "    se = sample_std / sample_size ** 0.5\n",
    "    t_score = (sample_mean - mu) / se\n",
    "    t_scores.append(t_score)"
   ]
  },
  {
   "cell_type": "code",
   "execution_count": 50,
   "metadata": {},
   "outputs": [
    {
     "data": {
      "text/plain": [
       "<matplotlib.axes._subplots.AxesSubplot at 0x7f851ec129b0>"
      ]
     },
     "execution_count": 50,
     "metadata": {},
     "output_type": "execute_result"
    },
    {
     "data": {
      "image/png": "[encoded data removed]",
      "text/plain": [
       "<Figure size 432x288 with 1 Axes>"
      ]
     },
     "metadata": {
      "needs_background": "light"
     },
     "output_type": "display_data"
    }
   ],
   "source": [
    "sns.distplot(t_scores, kde=False)"
   ]
  },
  {
   "cell_type": "code",
   "execution_count": 31,
   "metadata": {},
   "outputs": [
    {
     "data": {
      "text/plain": [
       "<matplotlib.axes._subplots.AxesSubplot at 0x7f7b9c00e1d0>"
      ]
     },
     "execution_count": 31,
     "metadata": {},
     "output_type": "execute_result"
    },
    {
     "data": {
      "image/png": "[encoded data removed]",
      "text/plain": [
       "<Figure size 432x288 with 1 Axes>"
      ]
     },
     "metadata": {
      "needs_background": "light"
     },
     "output_type": "display_data"
    }
   ],
   "source": [
    "#Что будет если сделать sample size поменьше - для Z-score ничего не изменилось\n",
    "sample_size_1 = 10\n",
    "z_scores_1 = []\n",
    "n = 10000\n",
    "\n",
    "for i in range(n):\n",
    "    sample_1 = np.random.choice(population, sample_size_1, False)\n",
    "    sample_mean_1 = sample_1.mean()\n",
    "    \n",
    "    \n",
    "    z_score_1 = (sample_mean_1 - mu) / se\n",
    "    z_scores_1.append(z_score_1)\n",
    "    \n",
    "sns.distplot(z_scores_1, kde=False)"
   ]
  },
  {
   "cell_type": "code",
   "execution_count": 32,
   "metadata": {},
   "outputs": [
    {
     "data": {
      "text/plain": [
       "<matplotlib.axes._subplots.AxesSubplot at 0x7f7b9bf24f60>"
      ]
     },
     "execution_count": 32,
     "metadata": {},
     "output_type": "execute_result"
    },
    {
     "data": {
      "image/png": "[encoded data removed]",
      "text/plain": [
       "<Figure size 432x288 with 1 Axes>"
      ]
     },
     "metadata": {
      "needs_background": "light"
     },
     "output_type": "display_data"
    }
   ],
   "source": [
    "#Что будет если сделать sample size поменьше - а вот для t-scores\n",
    "t_scores_1 = []\n",
    "sample_size_1 = 10 #можно менять размер выборки, что бы посмотреть как изменяется распределение\n",
    "n = 10000\n",
    "for i in range(n):\n",
    "    sample_12 = np.random.choice(population, sample_size_1, False)\n",
    "    sample_mean_12 = sample_12.mean()\n",
    "    sample_std_12 = sample_12.std()\n",
    "    \n",
    "    se_ = sample_std_12 / sample_size_1 ** 0.5\n",
    "    t_score_1 = (sample_mean_12 - mu) / se_\n",
    "    t_scores_1.append(t_score_1)\n",
    "\n",
    "sns.distplot(t_scores_1, kde=False)"
   ]
  },
  {
   "cell_type": "code",
   "execution_count": null,
   "metadata": {},
   "outputs": [],
   "source": [
    "sample_real.mean() + 2 * se"
   ]
  },
  {
   "cell_type": "code",
   "execution_count": null,
   "metadata": {},
   "outputs": [],
   "source": [
    "sample_real.mean() - 2 * se"
   ]
  },
  {
   "cell_type": "code",
   "execution_count": null,
   "metadata": {},
   "outputs": [],
   "source": [
    "df = sample_size - 1 #число степеней свободы"
   ]
  },
  {
   "cell_type": "code",
   "execution_count": null,
   "metadata": {},
   "outputs": [],
   "source": [
    "sample_real.mean() + 2.93 * se\n",
    "sample_real.mean() - 2.93 * se"
   ]
  },
  {
   "cell_type": "code",
   "execution_count": null,
   "metadata": {},
   "outputs": [],
   "source": []
  }
 ],
 "metadata": {
  "kernelspec": {
   "display_name": "Python 3",
   "language": "python",
   "name": "python3"
  },
  "language_info": {
   "codemirror_mode": {
    "name": "ipython",
    "version": 3
   },
   "file_extension": ".py",
   "mimetype": "text/x-python",
   "name": "python",
   "nbconvert_exporter": "python",
   "pygments_lexer": "ipython3",
   "version": "3.7.3"
  }
 },
 "nbformat": 4,
 "nbformat_minor": 2
}
