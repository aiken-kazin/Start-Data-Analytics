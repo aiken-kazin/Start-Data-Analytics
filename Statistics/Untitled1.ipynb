{
 "cells": [
  {
   "cell_type": "markdown",
   "metadata": {},
   "source": [
    "**Задача1.** Система РЛС (радиолокационная система) может обнаружить присутствие самолета в 98% случаев. Однако если в зоне действия радара нет самолета, система все равно сообщает (ложно), что самолет присутствует, в 5% случаев. В любой момент времени вероятность того, что самолет находится в зоне действия радара, составляет 7%.Какова вероятность того, что самолет находится в зоне действия радара, учитывая, что на радаре нет самолета?"
   ]
  },
  {
   "cell_type": "markdown",
   "metadata": {},
   "source": [
    "Пусть \n",
    "\n",
    "$A-$ на радаре нет сомалета,\n",
    "\n",
    "$H-$ сомалет находится в зоне действий радара,\n",
    "\n",
    "$H'-$ сомалет НЕ находится в зоне действий радара.\n",
    "\n",
    "\n",
    "Тогда\n",
    "\n",
    "$$\n",
    "P(H|A) = \\frac{P(H)P(A|H)}{P(A)},\n",
    "$$\n",
    "\n",
    "$$\n",
    "P(A) = P(H)P(A|H) + P(H')P(A|H')\n",
    "$$\n",
    "\n",
    "\n",
    "$P(H) = 0.07$,\n",
    "\n",
    "$P(A|H) = 0.02,$\n",
    "\n",
    "$P(A) = 0.93\\cdot 0.95 + 0.07\\cdot 0.02 = $"
   ]
  },
  {
   "cell_type": "code",
   "execution_count": 4,
   "metadata": {},
   "outputs": [],
   "source": [
    "P_A = 0.93*0.95 + 0.07*0.02"
   ]
  },
  {
   "cell_type": "code",
   "execution_count": 5,
   "metadata": {},
   "outputs": [],
   "source": [
    "P_H = 0.07\n",
    "P_AH = 0.02"
   ]
  },
  {
   "cell_type": "code",
   "execution_count": 6,
   "metadata": {},
   "outputs": [
    {
     "data": {
      "text/plain": [
       "0.001582099672279354"
      ]
     },
     "execution_count": 6,
     "metadata": {},
     "output_type": "execute_result"
    }
   ],
   "source": [
    "P_HA = P_H * P_AH / P_A\n",
    "P_HA"
   ]
  },
  {
   "cell_type": "code",
   "execution_count": 8,
   "metadata": {},
   "outputs": [
    {
     "data": {
      "text/plain": [
       "0.9984"
      ]
     },
     "execution_count": 8,
     "metadata": {},
     "output_type": "execute_result"
    }
   ],
   "source": [
    "1-0.0016"
   ]
  },
  {
   "cell_type": "markdown",
   "metadata": {},
   "source": [
    "**Задача2.** Система РЛС (радиолокационная система) может обнаружить присутствие самолета в 98% случаев. Однако если в зоне действия радара нет самолета, система все равно сообщает (ложно), что самолет присутствует, в 5% случаев. В любой момент времени вероятность того, что самолет находится в зоне действия радара, составляет 7%.Какова вероятность того, что самолет находится в зоне действия радара, учитывая, что радар показывает наличие самолета?"
   ]
  },
  {
   "cell_type": "markdown",
   "metadata": {},
   "source": [
    "Пусть \n",
    "\n",
    "$A-$ радар показывает сомалета,\n",
    "\n",
    "$H-$ сомалет находится в зоне действий радара,\n",
    "\n",
    "$H'-$ сомалет НЕ находится в зоне действий радара.\n",
    "\n",
    "\n",
    "Тогда\n",
    "\n",
    "$$\n",
    "P(H|A) = \\frac{P(H)P(A|H)}{P(A)},\n",
    "$$\n",
    "\n",
    "$$\n",
    "P(A) = P(H)P(A|H) + P(H')P(A|H')\n",
    "$$\n",
    "\n",
    "\n",
    "$P(H) = 0.07$,\n",
    "\n",
    "$P(A|H) = 0.02,$\n",
    "\n",
    "$P(A) = 0.93\\cdot 0.95 + 0.07\\cdot 0.02 = $"
   ]
  },
  {
   "cell_type": "code",
   "execution_count": 9,
   "metadata": {},
   "outputs": [
    {
     "data": {
      "text/plain": [
       "0.11790000000000005"
      ]
     },
     "execution_count": 9,
     "metadata": {},
     "output_type": "execute_result"
    }
   ],
   "source": [
    "P_A = 1-0.93*0.95 + 0.07*0.02\n",
    "P_A"
   ]
  },
  {
   "cell_type": "code",
   "execution_count": 10,
   "metadata": {},
   "outputs": [],
   "source": [
    "P_AH = 0.98"
   ]
  },
  {
   "cell_type": "code",
   "execution_count": null,
   "metadata": {},
   "outputs": [],
   "source": []
  },
  {
   "cell_type": "code",
   "execution_count": 13,
   "metadata": {},
   "outputs": [
    {
     "data": {
      "text/plain": [
       "0.07"
      ]
     },
     "execution_count": 13,
     "metadata": {},
     "output_type": "execute_result"
    }
   ],
   "source": [
    "P_H"
   ]
  },
  {
   "cell_type": "code",
   "execution_count": 14,
   "metadata": {},
   "outputs": [],
   "source": [
    "P_A = 0.07*0.98 + 0.93 * 0.05"
   ]
  },
  {
   "cell_type": "code",
   "execution_count": 16,
   "metadata": {},
   "outputs": [
    {
     "data": {
      "text/plain": [
       "0.5960034752389227"
      ]
     },
     "execution_count": 16,
     "metadata": {},
     "output_type": "execute_result"
    }
   ],
   "source": [
    "P_AH * P_H / P_A"
   ]
  },
  {
   "cell_type": "code",
   "execution_count": null,
   "metadata": {},
   "outputs": [],
   "source": []
  },
  {
   "cell_type": "code",
   "execution_count": 24,
   "metadata": {},
   "outputs": [
    {
     "data": {
      "text/plain": [
       "0.7032967032967034"
      ]
     },
     "execution_count": 24,
     "metadata": {},
     "output_type": "execute_result"
    }
   ],
   "source": [
    "(0.8 * 0.04) / (0.8*0.04 + 0.15*0.06+0.05*0.09)"
   ]
  },
  {
   "cell_type": "code",
   "execution_count": 22,
   "metadata": {},
   "outputs": [
    {
     "data": {
      "text/plain": [
       "0.7032967032967034"
      ]
     },
     "execution_count": 22,
     "metadata": {},
     "output_type": "execute_result"
    }
   ],
   "source": [
    "0.04 * 0.8 / (0.04 * 0.8 + 0.06 * 0.15 + 0.09 * 0.05)"
   ]
  },
  {
   "cell_type": "code",
   "execution_count": null,
   "metadata": {},
   "outputs": [],
   "source": []
  }
 ],
 "metadata": {
  "kernelspec": {
   "display_name": "Python 3",
   "language": "python",
   "name": "python3"
  },
  "language_info": {
   "codemirror_mode": {
    "name": "ipython",
    "version": 3
   },
   "file_extension": ".py",
   "mimetype": "text/x-python",
   "name": "python",
   "nbconvert_exporter": "python",
   "pygments_lexer": "ipython3",
   "version": "3.7.3"
  }
 },
 "nbformat": 4,
 "nbformat_minor": 4
}
