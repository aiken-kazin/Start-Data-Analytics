{
 "cells": [
  {
   "cell_type": "markdown",
   "metadata": {},
   "source": [
    "Система РЛС (радиолокационная система) может обнаружить присутствие самолета в 98% случаев. Однако если в зоне действия радара нет самолета, система все равно сообщает (ложно), что самолет присутствует, в 5% случаев. В любой момент времени вероятность того, что самолет находится в зоне действия радара, составляет 7%.Какова вероятность того, что самолет находится в зоне действия радара, учитывая, что на радаре нет самолета?"
   ]
  },
  {
   "cell_type": "markdown",
   "metadata": {},
   "source": [
    "Пусть \n",
    "\n",
    "$A-$ на радаре нет сомалета,\n",
    "\n",
    "$H-$ сомалет находится в зоне действий радара,\n",
    "\n",
    "$H'-$ сомалет НЕ находится в зоне действий радара.\n",
    "\n",
    "\n",
    "Тогда\n",
    "\n",
    "$$\n",
    "P(H|A) = \\frac{P(H)P(A|H)}{P(A)},\n",
    "$$\n",
    "\n",
    "$$\n",
    "P(A) = P(H)P(A|H) + P(H')P(A|H')\n",
    "$$\n",
    "\n",
    "\n",
    "$P(H) = 0.07$,\n",
    "\n",
    "$P(A|H) = 0.02,$\n",
    "\n",
    "$P(A) = 0.93\\cdot 0.95 + 0.07\\cdot 0.02 = $"
   ]
  },
  {
   "cell_type": "code",
   "execution_count": 1,
   "metadata": {},
   "outputs": [],
   "source": [
    "P_A = 0.93*0.95 + 0.07*0.02"
   ]
  },
  {
   "cell_type": "code",
   "execution_count": 2,
   "metadata": {},
   "outputs": [],
   "source": [
    "P_H = 0.07\n",
    "P_AH = 0.02"
   ]
  },
  {
   "cell_type": "code",
   "execution_count": 3,
   "metadata": {},
   "outputs": [
    {
     "data": {
      "text/plain": [
       "0.001582099672279354"
      ]
     },
     "execution_count": 3,
     "metadata": {},
     "output_type": "execute_result"
    }
   ],
   "source": [
    "P_HA = P_H * P_AH / P_A\n",
    "P_HA"
   ]
  },
  {
   "cell_type": "code",
   "execution_count": null,
   "metadata": {},
   "outputs": [],
   "source": []
  }
 ],
 "metadata": {
  "kernelspec": {
   "display_name": "Python 3",
   "language": "python",
   "name": "python3"
  },
  "language_info": {
   "codemirror_mode": {
    "name": "ipython",
    "version": 3
   },
   "file_extension": ".py",
   "mimetype": "text/x-python",
   "name": "python",
   "nbconvert_exporter": "python",
   "pygments_lexer": "ipython3",
   "version": "3.7.3"
  }
 },
 "nbformat": 4,
 "nbformat_minor": 4
}
